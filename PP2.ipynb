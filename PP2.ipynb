{
  "nbformat": 4,
  "nbformat_minor": 0,
  "metadata": {
    "colab": {
      "provenance": [],
      "collapsed_sections": []
    },
    "kernelspec": {
      "name": "python3",
      "display_name": "Python 3"
    },
    "language_info": {
      "name": "python"
    }
  },
  "cells": [
    {
      "cell_type": "markdown",
      "source": [
        "Importing Crime and Housing DataSet\n"
      ],
      "metadata": {
        "id": "W59HUMIVzPfq"
      }
    },
    {
      "cell_type": "code",
      "source": [
        "import csv\n",
        "import numpy as np\n",
        "from numpy import linalg as LA\n",
        "from numpy.linalg import eig\n",
        "import matplotlib.pyplot as plt\n",
        "\n",
        "\n",
        "reader = csv.reader(open(\"train-crime.csv\", \"r\"), delimiter=\",\")\n",
        "x = list(reader)\n",
        "train_crime = np.array(x).astype(\"float\")\n",
        "\n",
        "reader = csv.reader(open(\"test-crime.csv\", \"r\"), delimiter=\",\")\n",
        "x = list(reader)\n",
        "test_crime = np.array(x).astype(\"float\")\n",
        "\n",
        "reader = csv.reader(open(\"train-housing.csv\", \"r\"), delimiter=\",\")\n",
        "x = list(reader)\n",
        "train_housing = np.array(x).astype(\"float\")\n",
        "\n",
        "reader = csv.reader(open(\"test-housing.csv\", \"r\"), delimiter=\",\")\n",
        "x = list(reader)\n",
        "test_housing = np.array(x).astype(\"float\")\n",
        "\n"
      ],
      "metadata": {
        "id": "0_T8rFJicTf_"
      },
      "execution_count": 1,
      "outputs": []
    },
    {
      "cell_type": "code",
      "source": [
        "reader = csv.reader(open(\"trainR-crime.csv\", \"r\"), delimiter=\",\")\n",
        "x = list(reader)\n",
        "trainR_crime = np.array(x).astype(\"float\")\n",
        "\n",
        "reader = csv.reader(open(\"testR-crime.csv\", \"r\"), delimiter=\",\")\n",
        "x = list(reader)\n",
        "testR_crime = np.array(x).astype(\"float\")\n",
        "\n",
        "reader = csv.reader(open(\"trainR-housing.csv\", \"r\"), delimiter=\",\")\n",
        "x = list(reader)\n",
        "trainR_housing = np.array(x).astype(\"float\")\n",
        "\n",
        "reader = csv.reader(open(\"testR-housing.csv\", \"r\"), delimiter=\",\")\n",
        "x = list(reader)\n",
        "testR_housing = np.array(x).astype(\"float\")\n"
      ],
      "metadata": {
        "id": "XTc78M3biadA"
      },
      "execution_count": 2,
      "outputs": []
    },
    {
      "cell_type": "code",
      "source": [
        "print(f\"train crime: {train_crime.shape}\")\n",
        "print(f\"test crime: {test_crime.shape}\")\n",
        "print(f\"train housing: {train_housing.shape}\")\n",
        "print(f\"test housing: {test_housing.shape}\")\n"
      ],
      "metadata": {
        "colab": {
          "base_uri": "https://localhost:8080/"
        },
        "id": "MfVi7e1mVm9G",
        "outputId": "003614b4-af88-40a2-aa2c-c26cf7015e67"
      },
      "execution_count": 3,
      "outputs": [
        {
          "output_type": "stream",
          "name": "stdout",
          "text": [
            "train crime: (1695, 100)\n",
            "test crime: (298, 100)\n",
            "train housing: (102, 13)\n",
            "test housing: (404, 13)\n"
          ]
        }
      ]
    },
    {
      "cell_type": "code",
      "source": [
        "print(f\"trainR crime: {trainR_crime.shape}\")\n",
        "print(f\"testR crime: {testR_crime.shape}\")\n",
        "print(f\"trainR housing: {trainR_housing.shape}\")\n",
        "print(f\"testR housing: {testR_housing.shape}\")\n"
      ],
      "metadata": {
        "colab": {
          "base_uri": "https://localhost:8080/"
        },
        "id": "hd0W5t7scwyb",
        "outputId": "cfd54e5c-02d0-44e5-ce20-308ff09f5f0f"
      },
      "execution_count": 4,
      "outputs": [
        {
          "output_type": "stream",
          "name": "stdout",
          "text": [
            "trainR crime: (1695, 1)\n",
            "testR crime: (298, 1)\n",
            "trainR housing: (102, 1)\n",
            "testR housing: (404, 1)\n"
          ]
        }
      ]
    },
    {
      "cell_type": "markdown",
      "source": [
        "Fuction to calculate MSE using MLE"
      ],
      "metadata": {
        "id": "xFWsXcgVJeDh"
      }
    },
    {
      "cell_type": "code",
      "source": [
        "def call_1(train,trainR,test,testR,mse):\n",
        "      w=np.matmul(np.linalg.inv(np.matmul(np.transpose(train),train)),np.matmul(np.transpose(train),trainR))\n",
        "      d=pow((LA.norm(np.matmul(test,w)-testR)),2)/test.shape[0]\n",
        "      mse.append(d)\n"
      ],
      "metadata": {
        "id": "t7mHlzTS_C-T"
      },
      "execution_count": 5,
      "outputs": []
    },
    {
      "cell_type": "markdown",
      "source": [
        "Funtion to calculate optimal alpha and beta and Mean Squared Error(Through Model Selection)"
      ],
      "metadata": {
        "id": "dAgnI_fKzk12"
      }
    },
    {
      "cell_type": "code",
      "source": [
        "def call(alpha,beta,train,trainR,test,testR,mse,alpha_beta,labda):\n",
        "    \n",
        "      \n",
        "      for i in range(1000):\n",
        "        #calculation s_n\n",
        "        s_n=np.linalg.inv(alpha*(np.identity(np.matmul(np.transpose(train),train).shape[0]))+beta*(np.matmul(np.transpose(train),train)))\n",
        "        s_n1=beta*(np.matmul(np.transpose(train),train))\n",
        "        #calculting m_n\n",
        "        l=beta*(np.matmul(np.transpose(train),trainR))\n",
        "        m_n=np.matmul(s_n,l)\n",
        "        #calculate gamma\n",
        "        gamma=0\n",
        "        eigenvalue,eigenvector=eig(s_n1)\n",
        "        for i in (eigenvalue):\n",
        "          gamma+=i/(i+alpha)\n",
        "        alpha0=gamma/(np.matmul(np.transpose(m_n),m_n))\n",
        "        temp= pow( (LA.norm(np.matmul(train,m_n)-trainR)),2   )/  (train.shape[0]-gamma)\n",
        "        beta0=1/temp\n",
        "        if( abs(alpha-alpha0)<=1.e-9  and abs(beta-beta0)<=1.e-9):\n",
        "          alpha=alpha0\n",
        "          beta=beta0\n",
        "          break\n",
        "        alpha=alpha0  \n",
        "        beta=beta0\n",
        "      tmp=[]\n",
        "      tmp.append(alpha)\n",
        "      tmp.append(beta)\n",
        "      alpha_beta.append(tmp)\n",
        "      labda.append(alpha/beta)\n",
        "      w=np.matmul(np.linalg.inv( (alpha/beta)*np.identity(np.matmul(np.transpose(train),train).shape[0])+np.matmul(np.transpose(train),train)),np.matmul(np.transpose(train),trainR))\n",
        "      d=pow( (LA.norm(np.matmul(test,w)-testR)),2)/test.shape[0]\n",
        "      mse.append(d)\n",
        "\n",
        "        "
      ],
      "metadata": {
        "id": "Uq19lExlcgoz"
      },
      "execution_count": 6,
      "outputs": []
    },
    {
      "cell_type": "markdown",
      "source": [
        "Crime DataSet"
      ],
      "metadata": {
        "id": "sGRiqLpe1Kea"
      }
    },
    {
      "cell_type": "code",
      "source": [
        "l=[.1,.2,.3,.4,.5,.6,.7,.8,.9,1.0]\n",
        "crime_mse=[]\n",
        "crime_mse_mle=[]\n",
        "crime_alpha_beta=[]\n",
        "crime_labda=[]\n",
        "alpha=1\n",
        "beta=2\n",
        "test=test_crime\n",
        "testR=testR_crime \n",
        "      \n",
        "for i in l:\n",
        "   train=train_crime[0:int(1695*i)]\n",
        "   trainR=trainR_crime[0:int(1695*i)]\n",
        "   call(alpha,beta,train,trainR,test,testR,crime_mse,crime_alpha_beta,crime_labda)\n",
        "   call_1(train,trainR,test,testR,crime_mse_mle) \n",
        "\n",
        "print(\"Mse of crime:\" ,crime_mse)\n",
        "print(\"Alpha and beta of crime\", crime_alpha_beta)\n",
        "print(\"Lamda of crime\", crime_labda)\n",
        "print(\"Mse of crime based on MLE\",crime_mse_mle)"
      ],
      "metadata": {
        "id": "l1DOkk4pzDsq",
        "colab": {
          "base_uri": "https://localhost:8080/"
        },
        "outputId": "492b7658-7888-4adb-d67b-3bca272381a2"
      },
      "execution_count": 7,
      "outputs": [
        {
          "output_type": "stream",
          "name": "stdout",
          "text": [
            "Mse of crime: [0.3973494907413788, 0.34524717509174735, 0.348260893381907, 0.33788160770365855, 0.33870075016906936, 0.3328208252165132, 0.3307765464098719, 0.33244627574137914, 0.3324735359429325, 0.3345435839841052]\n",
            "Alpha and beta of crime [[array([[188.13444157]]), array([[3.05906022]])], [array([[284.72212468]]), array([[2.96441872]])], [array([[266.9905617]]), array([[2.84715233]])], [array([[280.449113]]), array([[2.84968436]])], [array([[284.08793524]]), array([[2.915622]])], [array([[263.47598344]]), array([[2.96226148]])], [array([[254.16216348]]), array([[3.08756079]])], [array([[254.20727982]]), array([[3.12419584]])], [array([[247.43785802]]), array([[3.0462555]])], [array([[239.71675396]]), array([[3.08529804]])]]\n",
            "Lamda of crime [array([[61.50073155]]), array([[96.04652777]]), array([[93.77459666]]), array([[98.41409711]]), array([[97.43647661]]), array([[88.94420209]]), array([[82.31810826]]), array([[81.36726784]]), array([[81.2268892]]), array([[77.69646598]])]\n",
            "Mse of crime based on MLE [1.310217208047937, 0.4967427267380949, 0.45634855646305034, 0.38714667059642177, 0.37130140230274067, 0.36447055412493, 0.3548472889037819, 0.34830539217648543, 0.34690030257775967, 0.345056933042372]\n"
          ]
        }
      ]
    },
    {
      "cell_type": "code",
      "source": [
        "plt.title(\"MSE using Baysian  with respect to length of Crime-data set\")\n",
        "plt.xlabel(\"Length of training data\")\n",
        "plt.ylabel(\"MSE\")\n",
        "\n",
        "X=[1695*i for i in l]\n",
        "print(len(crime_mse))\n",
        "\n",
        "plt.ylim(0, 1)\n",
        "plt.plot(X,crime_mse)"
      ],
      "metadata": {
        "colab": {
          "base_uri": "https://localhost:8080/",
          "height": 331
        },
        "id": "qB6O9NIXhCaS",
        "outputId": "11237539-864b-491b-c1c7-c29a68a694f6"
      },
      "execution_count": 8,
      "outputs": [
        {
          "output_type": "stream",
          "name": "stdout",
          "text": [
            "10\n"
          ]
        },
        {
          "output_type": "execute_result",
          "data": {
            "text/plain": [
              "[<matplotlib.lines.Line2D at 0x7f85f195f7d0>]"
            ]
          },
          "metadata": {},
          "execution_count": 8
        },
        {
          "output_type": "display_data",
          "data": {
            "text/plain": [
              "<Figure size 432x288 with 1 Axes>"
            ],
            "image/png": "[encoded data removed]"
          },
          "metadata": {
            "needs_background": "light"
          }
        }
      ]
    },
    {
      "cell_type": "code",
      "source": [
        "plt.title(\"MSE using MLE  with respect to length of Crime-data set\")\n",
        "plt.xlabel(\"Length of training data\")\n",
        "plt.ylabel(\"MSE\")\n",
        "\n",
        "X=[1695*i for i in l]\n",
        "print(len(crime_mse_mle))\n",
        "\n",
        "plt.plot(X,crime_mse_mle)"
      ],
      "metadata": {
        "colab": {
          "base_uri": "https://localhost:8080/",
          "height": 331
        },
        "id": "1s9Cv1DY-5Ih",
        "outputId": "39781725-05e4-479f-99ed-d27a06fdede7"
      },
      "execution_count": 10,
      "outputs": [
        {
          "output_type": "stream",
          "name": "stdout",
          "text": [
            "10\n"
          ]
        },
        {
          "output_type": "execute_result",
          "data": {
            "text/plain": [
              "[<matplotlib.lines.Line2D at 0x7f85f199fb90>]"
            ]
          },
          "metadata": {},
          "execution_count": 10
        },
        {
          "output_type": "display_data",
          "data": {
            "text/plain": [
              "<Figure size 432x288 with 1 Axes>"
            ],
            "image/png": "[encoded data removed]"
          },
          "metadata": {
            "needs_background": "light"
          }
        }
      ]
    },
    {
      "cell_type": "markdown",
      "source": [
        "Housing DataSet"
      ],
      "metadata": {
        "id": "r7LdgKWR1Nis"
      }
    },
    {
      "cell_type": "code",
      "source": [
        "d=[.1,.2,.3,.4,.5,.6,.7,.8,.9,1.0]\n",
        "housing_mse=[]\n",
        "housing_mse_mle=[]\n",
        "housing_alpha_beta=[]\n",
        "housing_labda=[]\n",
        "alpha=6\n",
        "beta=7\n",
        "test=test_housing\n",
        "testR=testR_housing \n",
        "   \n",
        "for i in d:\n",
        "   train=train_housing[0:int(102*i)]\n",
        "   trainR=trainR_housing[0:int(102*i)]\n",
        "   call(alpha,beta,train,trainR,test,testR,housing_mse,housing_alpha_beta,housing_labda)\n",
        "   call_1(train,trainR,test,testR,housing_mse_mle)\n",
        "\n",
        "print(\"Mse of Housing:\" ,housing_mse)\n",
        "print(\"Alpha and beta of housing\", housing_alpha_beta)\n",
        "print(\"Lamda of housing\", housing_labda)\n",
        "print(\"Mse of housing based on MLE\",housing_mse_mle)"
      ],
      "metadata": {
        "id": "BFBM1CCihMkM",
        "colab": {
          "base_uri": "https://localhost:8080/"
        },
        "outputId": "f21d4294-ab73-4843-d2e3-2380f7a70084"
      },
      "execution_count": 15,
      "outputs": [
        {
          "output_type": "stream",
          "name": "stdout",
          "text": [
            "Mse of Housing: [0.4739323274418546, 0.3178536411920829, 0.3152250234220969, 0.3086490303120302, 0.32089197585324153, 0.29966188672329214, 0.2942474945340388, 0.2872878784404555, 0.30265063472580345, 0.2884936224270277]\n",
            "Alpha and beta of housing [[array([[17.11589264-6.48698753e-30j]]), array([[55.42997019-1.65974726e-29j]])], [array([[16.33475216]]), array([[3.45860223]])], [array([[17.04712647]]), array([[4.11444631]])], [array([[18.40616287]]), array([[4.9746028]])], [array([[17.80874271]]), array([[4.41151738]])], [array([[19.53649703]]), array([[4.69127369]])], [array([[18.64262721]]), array([[4.39349693]])], [array([[19.27325847]]), array([[4.54984526]])], [array([[16.95087865]]), array([[4.11960031]])], [array([[20.41249709]]), array([[4.04125484]])]]\n",
            "Lamda of housing [array([[0.30878409-2.45706814e-32j]]), array([[4.72293461]]), array([[4.14323707]]), array([[3.70002664]]), array([[4.03687466]]), array([[4.16443344]]), array([[4.2432321]]), array([[4.23602505]]), array([[4.11469011]]), array([[5.05102942]])]\n",
            "Mse of housing based on MLE [87.37980381316953, 0.6531445531536041, 0.37328040705892007, 0.340572258403595, 0.3644021055620386, 0.3208055610853245, 0.3141824758820001, 0.2989411646502247, 0.31957266203765167, 0.29443262001271503]\n"
          ]
        }
      ]
    },
    {
      "cell_type": "code",
      "source": [
        "plt.title(\"MSE with respect to length of Housing-data set\")\n",
        "plt.xlabel(\"Length of training data\")\n",
        "plt.ylabel(\"MSE\")\n",
        "\n",
        "X=[102*i for i in d]\n",
        "plt.ylim(0, 1)\n",
        "plt.plot(X,housing_mse)"
      ],
      "metadata": {
        "colab": {
          "base_uri": "https://localhost:8080/",
          "height": 313
        },
        "id": "DBkaHX8bsfH9",
        "outputId": "e8199cce-0f8c-496e-f302-d25f419a848f"
      },
      "execution_count": 12,
      "outputs": [
        {
          "output_type": "execute_result",
          "data": {
            "text/plain": [
              "[<matplotlib.lines.Line2D at 0x7f85f1b976d0>]"
            ]
          },
          "metadata": {},
          "execution_count": 12
        },
        {
          "output_type": "display_data",
          "data": {
            "text/plain": [
              "<Figure size 432x288 with 1 Axes>"
            ],
            "image/png": "[encoded data removed]"
          },
          "metadata": {
            "needs_background": "light"
          }
        }
      ]
    },
    {
      "cell_type": "code",
      "source": [
        "plt.title(\"MSE using MLE  with respect to length of housing-data set\")\n",
        "plt.xlabel(\"Length of training data\")\n",
        "plt.ylabel(\"MSE\")\n",
        "\n",
        "X=[102*i for i in d]\n",
        "\n",
        "plt.plot(X,housing_mse_mle)"
      ],
      "metadata": {
        "colab": {
          "base_uri": "https://localhost:8080/",
          "height": 313
        },
        "id": "aOVtx6-6-7fr",
        "outputId": "19e0e7c6-8a72-4c9a-aba7-5c8eaa45ebdd"
      },
      "execution_count": 16,
      "outputs": [
        {
          "output_type": "execute_result",
          "data": {
            "text/plain": [
              "[<matplotlib.lines.Line2D at 0x7f85f18d2490>]"
            ]
          },
          "metadata": {},
          "execution_count": 16
        },
        {
          "output_type": "display_data",
          "data": {
            "text/plain": [
              "<Figure size 432x288 with 1 Axes>"
            ],
            "image/png": "[encoded data removed]"
          },
          "metadata": {
            "needs_background": "light"
          }
        }
      ]
    },
    {
      "cell_type": "markdown",
      "source": [
        "Calculation of MSE with given lambda"
      ],
      "metadata": {
        "id": "d-rnMsAc1mDD"
      }
    },
    {
      "cell_type": "code",
      "source": [
        "def callfor2(train,trainR,test,testR,crime_mse,labda):\n",
        "      w=np.matmul(np.linalg.inv(labda*np.identity(np.matmul(np.transpose(train),train).shape[0])+np.matmul(np.transpose(train),train)),np.matmul(np.transpose(train),trainR))\n",
        "      d=pow( (LA.norm(np.matmul(test,w)-testR)),2)/test.shape[0]\n",
        "      crime_mse.append(d)\n",
        "\n",
        "        "
      ],
      "metadata": {
        "id": "ria9XiQHv-bQ"
      },
      "execution_count": 10,
      "outputs": []
    },
    {
      "cell_type": "code",
      "source": [
        "#crime data\n",
        "l=[.1,.2,.3,.4,.5,.6,.7,.8,.9,1.0]\n",
        "m=[1.0,33.0,100.0,1000.0]\n",
        "mse=[]\n",
        "for j in m:\n",
        "  crime2_mse=[]\n",
        "  for i in l:\n",
        "    train=train_crime[0:int(1695*i)]\n",
        "    trainR=trainR_crime[0:int(1695*i)]\n",
        "    test=test_crime\n",
        "    testR=testR_crime \n",
        "    callfor2(train,trainR,test,testR,crime2_mse,j)\n",
        "  mse.append(crime2_mse)\n",
        "print(\"MSE of crime with different lambda\",np.array(mse))        "
      ],
      "metadata": {
        "colab": {
          "base_uri": "https://localhost:8080/",
          "height": 0
        },
        "id": "PtwMF2IrsmJr",
        "outputId": "f586b0c6-1fee-4ea3-ac14-42eeac9ee2c1"
      },
      "execution_count": 49,
      "outputs": [
        {
          "output_type": "stream",
          "name": "stdout",
          "text": [
            "MSE of crime with different lambda [[0.69159992 0.46291459 0.43913107 0.38073611 0.36831738 0.3620302\n",
            "  0.35245425 0.34721311 0.34597045 0.34476208]\n",
            " [0.41445045 0.36721973 0.37007751 0.35036751 0.34949274 0.34215209\n",
            "  0.33776025 0.33791258 0.33738615 0.3385348 ]\n",
            " [0.38695807 0.34464195 0.34721775 0.33772147 0.33845285 0.3318064\n",
            "  0.32935117 0.33113616 0.33123333 0.33318515]\n",
            " [0.35175695 0.33083123 0.327807   0.32228036 0.3232175  0.31949499\n",
            "  0.31914335 0.31970293 0.31927058 0.32042423]]\n"
          ]
        }
      ]
    },
    {
      "cell_type": "code",
      "source": [
        "x=[1695*i for i in l]\n",
        "y1 =mse[0] \n",
        "y2=mse[1]\n",
        "y3=mse[2]\n",
        "y4=mse[3]\n",
        "plt.scatter(x, y1, color='green')\n",
        "plt.scatter(x, y2, color='red')\n",
        "plt.scatter(x, y3, color='blue')\n",
        "plt.scatter(x,y4,color='orange')\n",
        "\n",
        "# Scatter Plot color array\n",
        "plt.title(\"MSE with different Lamda on Crime data\")\n",
        "\n",
        "plt.xlabel(\"Length training data\")\n",
        "plt.ylabel(\"MSE\")\n",
        "\n",
        "\n",
        "# Display\n",
        "plt.plot(x,y1,color='green')\n",
        "plt.plot(x,y2,color='red')\n",
        "plt.plot(x,y3,color='blue')\n",
        "plt.plot(x,y3,color='orange')\n",
        "plt.legend(['1', '33','100','1000'])\n",
        "plt.show()\n",
        "\n",
        "\n"
      ],
      "metadata": {
        "colab": {
          "base_uri": "https://localhost:8080/",
          "height": 295
        },
        "id": "tMCrYsbs1vxd",
        "outputId": "39ca7973-c7fa-4ff3-acf5-283b50744c27"
      },
      "execution_count": 14,
      "outputs": [
        {
          "output_type": "display_data",
          "data": {
            "text/plain": [
              "<Figure size 432x288 with 1 Axes>"
            ],
            "image/png": "[encoded data removed]"
          },
          "metadata": {
            "needs_background": "light"
          }
        }
      ]
    },
    {
      "cell_type": "code",
      "source": [
        "#housing data set\n",
        "l=[.1,.2,.3,.4,.5,.6,.7,.8,.9,1.0]\n",
        "m=[1.0,33.0,100.0,1000.0]\n",
        "mse=[]\n",
        "test=test_housing\n",
        "testR=testR_housing \n",
        "    \n",
        "for j in m:\n",
        "  housing2_mse=[]\n",
        "  for i in l:\n",
        "    train=train_housing[0:int(102*i)]\n",
        "    trainR=trainR_housing[0:int(102*i)]\n",
        "    callfor2(train,trainR,test,testR,housing2_mse,j)\n",
        "  mse.append(housing2_mse)\n",
        "print(\"MSE of crime with different lambda\",np.array(mse))        "
      ],
      "metadata": {
        "colab": {
          "base_uri": "https://localhost:8080/",
          "height": 0
        },
        "id": "yv5CC8pBxV5E",
        "outputId": "66c24082-14df-4960-d6d0-39b02b9a270a"
      },
      "execution_count": 50,
      "outputs": [
        {
          "output_type": "stream",
          "name": "stdout",
          "text": [
            "MSE of crime with different lambda [[0.42356667 0.3643471  0.33488218 0.32370903 0.34656788 0.31213502\n",
            "  0.30649309 0.29435854 0.31378035 0.29243563]\n",
            " [0.62289381 0.43120043 0.36167733 0.34742199 0.35352782 0.33658551\n",
            "  0.31340188 0.3098098  0.30736709 0.30544117]\n",
            " [0.75284682 0.58603064 0.49677326 0.46652408 0.46523222 0.43991055\n",
            "  0.39273853 0.38715888 0.37023733 0.3681112 ]\n",
            " [0.95372784 0.90093428 0.86458057 0.83512352 0.81218873 0.78457641\n",
            "  0.73803477 0.7296996  0.71300838 0.70197014]]\n"
          ]
        }
      ]
    },
    {
      "cell_type": "code",
      "source": [
        "x=[102*i for i in l]\n",
        "y1 =mse[0] \n",
        "y2=mse[1]\n",
        "y3=mse[2]\n",
        "y4=mse[3]\n",
        "plt.scatter(x, y1, color='green')\n",
        "plt.scatter(x, y2, color='red')\n",
        "plt.scatter(x, y3, color='blue')\n",
        "plt.scatter(x,y4,color='purple')\n",
        "\n",
        "# Scatter Plot color array\n",
        "plt.title(\"MSE with different Lamda on Housing Data\")\n",
        "\n",
        "plt.xlabel(\"Length training data\")\n",
        "plt.ylabel(\"MSE\")\n",
        "\n",
        "\n",
        "# Display\n",
        "plt.plot(x,y1,color='green')\n",
        "plt.plot(x,y2,color='red')\n",
        "plt.plot(x,y3,color='blue')\n",
        "plt.plot(x,y3,color='purple')\n",
        "plt.legend(['1', '33','100','1000'])\n",
        "plt.show()\n",
        "\n",
        "\n"
      ],
      "metadata": {
        "colab": {
          "base_uri": "https://localhost:8080/",
          "height": 295
        },
        "id": "xj_tpfhd23J7",
        "outputId": "4ab1c20b-b881-4732-b153-a5273feaab28"
      },
      "execution_count": 22,
      "outputs": [
        {
          "output_type": "display_data",
          "data": {
            "text/plain": [
              "<Figure size 432x288 with 1 Axes>"
            ],
            "image/png": "[encoded data removed]"
          },
          "metadata": {
            "needs_background": "light"
          }
        }
      ]
    },
    {
      "cell_type": "markdown",
      "source": [
        "Task 2\n"
      ],
      "metadata": {
        "id": "j8KXAQCsCC6L"
      }
    },
    {
      "cell_type": "code",
      "source": [
        "reader = csv.reader(open(\"train-f3.csv\", \"r\"), delimiter=\",\")\n",
        "x = list(reader)\n",
        "train_f3 = np.array(x).astype(\"float\")\n",
        "\n",
        "reader = csv.reader(open(\"test-f3.csv\", \"r\"), delimiter=\",\")\n",
        "x = list(reader)\n",
        "test_f3 = np.array(x).astype(\"float\")\n",
        "\n",
        "reader = csv.reader(open(\"train-f5.csv\", \"r\"), delimiter=\",\")\n",
        "x = list(reader)\n",
        "train_f5 = np.array(x).astype(\"float\")\n",
        "\n",
        "reader = csv.reader(open(\"test-f5.csv\", \"r\"), delimiter=\",\")\n",
        "x = list(reader)\n",
        "test_f5 = np.array(x).astype(\"float\")\n",
        "\n",
        "\n"
      ],
      "metadata": {
        "id": "S81eKeSB07Pq"
      },
      "execution_count": 23,
      "outputs": []
    },
    {
      "cell_type": "code",
      "source": [
        "reader = csv.reader(open(\"trainR-f3.csv\", \"r\"), delimiter=\",\")\n",
        "x = list(reader)\n",
        "trainR_f3 = np.array(x).astype(\"float\")\n",
        "\n",
        "reader = csv.reader(open(\"testR-f3.csv\", \"r\"), delimiter=\",\")\n",
        "x = list(reader)\n",
        "testR_f3 = np.array(x).astype(\"float\")\n",
        "\n",
        "reader = csv.reader(open(\"trainR-f5.csv\", \"r\"), delimiter=\",\")\n",
        "x = list(reader)\n",
        "trainR_f5 = np.array(x).astype(\"float\")\n",
        "\n",
        "reader = csv.reader(open(\"testR-f5.csv\", \"r\"), delimiter=\",\")\n",
        "x = list(reader)\n",
        "testR_f5 = np.array(x).astype(\"float\")\n"
      ],
      "metadata": {
        "id": "N9Ync7A7CRYO"
      },
      "execution_count": 24,
      "outputs": []
    },
    {
      "cell_type": "code",
      "source": [
        "print(f\"train f3: {train_f3.shape}\")\n",
        "print(f\"test f3: {test_f3.shape}\")\n",
        "print(f\"train f5: {train_f5.shape}\")\n",
        "print(f\"test f5: {test_f5.shape}\")\n"
      ],
      "metadata": {
        "colab": {
          "base_uri": "https://localhost:8080/",
          "height": 0
        },
        "id": "uKBkYpZQCceT",
        "outputId": "e5454080-5e4d-4e8b-c5cc-0a268dd96900"
      },
      "execution_count": 25,
      "outputs": [
        {
          "output_type": "stream",
          "name": "stdout",
          "text": [
            "train f3: (300, 1)\n",
            "test f3: (500, 1)\n",
            "train f5: (300, 1)\n",
            "test f5: (500, 1)\n"
          ]
        }
      ]
    },
    {
      "cell_type": "code",
      "source": [
        "print(f\"trainR f3: {trainR_f3.shape}\")\n",
        "print(f\"testR f3: {testR_f3.shape}\")\n",
        "print(f\"trainR f5: {trainR_f5.shape}\")\n",
        "print(f\"testR f5: {testR_f5.shape}\")\n"
      ],
      "metadata": {
        "colab": {
          "base_uri": "https://localhost:8080/",
          "height": 0
        },
        "id": "EN0BY77OCcg2",
        "outputId": "b798eaf9-656c-4bf5-e225-befe3ba1d255"
      },
      "execution_count": 26,
      "outputs": [
        {
          "output_type": "stream",
          "name": "stdout",
          "text": [
            "trainR f3: (300, 1)\n",
            "testR f3: (500, 1)\n",
            "trainR f5: (300, 1)\n",
            "testR f5: (500, 1)\n"
          ]
        }
      ]
    },
    {
      "cell_type": "markdown",
      "source": [
        "Fuction to generate the polynomial data-set"
      ],
      "metadata": {
        "id": "JPjKwux44w3s"
      }
    },
    {
      "cell_type": "code",
      "source": [
        "def generate(data,d):\n",
        "   ans=[]\n",
        "     \n",
        "   for i in data:\n",
        "     x=[]\n",
        "     for j in range(d+1):\n",
        "       x.append(pow(i,j))\n",
        "     ans.append(x)\n",
        "    \n",
        "   return np.array(ans).reshape(data.shape[0],d+1)\n",
        "     \n",
        "    \n"
      ],
      "metadata": {
        "id": "RQsMQ02jCclq"
      },
      "execution_count": 27,
      "outputs": []
    },
    {
      "cell_type": "markdown",
      "source": [
        "Function to calculate MSe, log Evedence and optimal alpha and beta(Bayesian/regularized appraoch)"
      ],
      "metadata": {
        "id": "e56z7cc_5AVP"
      }
    },
    {
      "cell_type": "code",
      "source": [
        "def call3(alpha,beta,train,trainR,test,testR,mse,alpha_beta,labda,evidence):\n",
        "      while(True):\n",
        "        #calculation s_n\n",
        "        s_n=np.linalg.inv(alpha*(np.identity(np.matmul(np.transpose(train),train).shape[0]))+beta*(np.matmul(np.transpose(train),train)))\n",
        "        s_n1=beta*(np.matmul(np.transpose(train),train))\n",
        "        #calculting m_n\n",
        "        l=beta*(np.matmul(np.transpose(train),trainR))\n",
        "        m_n=np.matmul(s_n,l)\n",
        "        #calculate gamma\n",
        "        gamma=0\n",
        "        eigenvalue,eigenvector=eig(s_n1)\n",
        "        for i in (eigenvalue):\n",
        "          gamma+=i/(i+alpha)\n",
        "        alpha0=gamma/(np.matmul(np.transpose(m_n),m_n))\n",
        "        temp= pow( (LA.norm(np.matmul(train,m_n)-trainR)),2   )/  (train.shape[0]-gamma)\n",
        "        beta0=1/temp\n",
        "        if( abs(alpha-alpha0)<=.00005  and abs(beta-beta0)<=.00005):\n",
        "          alpha=alpha0\n",
        "          beta=beta0\n",
        "          break\n",
        "        alpha=alpha0  \n",
        "        beta=beta0\n",
        "      tmp=[]\n",
        "      tmp.append(alpha)\n",
        "      tmp.append(beta)\n",
        "      alpha_beta.append(tmp)\n",
        "      labda.append(alpha/beta)\n",
        "      w=np.matmul(np.linalg.inv( (alpha/beta)*np.identity(np.matmul(np.transpose(train),train).shape[0])+np.matmul(np.transpose(train),train)),np.matmul(np.transpose(train),trainR))\n",
        "      d=pow( (LA.norm(np.matmul(test,w)-testR)),2)/test.shape[0]\n",
        "      mse.append(d)\n",
        "      tmp2=[]\n",
        "      tmp2.append( np.dot((w.shape[0]/2),np.log(alpha)) + np.dot((train.shape[0]/2),np.log(beta))  - np.dot((train.shape[0]/2),np.log(2*3.14)) -  np.dot( (alpha/2), np.dot(np.transpose(m_n),m_n)) - np.dot( (beta/2),pow( (LA.norm(trainR-np.dot(train,m_n))),2)) - np.dot((1/2),np.log(np.linalg.det(np.linalg.inv(s_n))) ))\n",
        "      \n",
        "      evidence.append(tmp2)\n",
        "        "
      ],
      "metadata": {
        "id": "LtjASp37bGYs"
      },
      "execution_count": 128,
      "outputs": []
    },
    {
      "cell_type": "markdown",
      "source": [
        "Unregularized MSE"
      ],
      "metadata": {
        "id": "s3WA5R1j5OHD"
      }
    },
    {
      "cell_type": "code",
      "source": [
        "def call4(train,trainR,test,testR,mse):\n",
        "      w=np.matmul(np.linalg.inv(np.matmul(np.transpose(train),train)),np.matmul(np.transpose(train),trainR))\n",
        "      d=pow((LA.norm(np.matmul(test,w)-testR)),2)/test.shape[0]\n",
        "      mse.append(d)\n"
      ],
      "metadata": {
        "id": "xt02nYrtVV6g"
      },
      "execution_count": 129,
      "outputs": []
    },
    {
      "cell_type": "markdown",
      "source": [
        "For F3-Data"
      ],
      "metadata": {
        "id": "PsAFY_5d7Ips"
      }
    },
    {
      "cell_type": "code",
      "source": [
        "d=[1,2,3,4,5,6,7,8,9,10]\n",
        "f3_mse=[]\n",
        "f3_alpha_beta=[]\n",
        "f3_labda=[]\n",
        "f3_evidence=[]\n",
        "f3_mse_nonregu=[]\n",
        "alpha=6\n",
        "beta=7\n",
        "trainR=trainR_f3\n",
        "testR=testR_f3 \n",
        "for i in d:\n",
        "   train=generate(train_f3,i)\n",
        "   test=generate(test_f3,i)\n",
        "   call3(alpha,beta,train,trainR,test,testR,f3_mse,f3_alpha_beta,f3_labda,f3_evidence)\n",
        "   call4(train,trainR,test,testR,f3_mse_nonregu)\n",
        "print(f\"MSE of f3: {f3_mse}\")\n",
        "print(f\"alpha beta of f3: {f3_alpha_beta}\")\n",
        "print(f\"Lambda of f3: {f3_labda}\")\n",
        "print(f\"Evidence of f3:{f3_evidence}\")\n",
        "print(f\"MSE for unregularized f3:{f3_mse_nonregu}\")"
      ],
      "metadata": {
        "colab": {
          "base_uri": "https://localhost:8080/",
          "height": 0
        },
        "id": "YjQJ0U_kCcjR",
        "outputId": "a9f18607-39a7-496f-e975-6736324ae120"
      },
      "execution_count": 130,
      "outputs": [
        {
          "output_type": "stream",
          "name": "stdout",
          "text": [
            "MSE of f3: [39376476.15867189, 39527145.98303755, 67746.73068694868, 149527.91797484685, 152228.99961742683, 165090.40426476675, 172102.90062299275, 181621.79886404693, 179042.4389755561, 219685.20432604046]\n",
            "alpha beta of f3: [[array([[6.97198993e-07]]), array([[2.62786873e-08]])], [array([[1.04561412e-06]]), array([[2.62139131e-08]])], [array([[0.00998393]]), array([[2.45096392e-07]])], [array([[0.01872897]]), array([[2.48536732e-07]])], [array([[0.02471774]]), array([[2.47897997e-07]])], [array([[0.0290085]]), array([[2.47481921e-07]])], [array([[0.02937365]]), array([[2.48647889e-07]])], [array([[0.03379791]]), array([[2.48242675e-07]])], [array([[0.04474225-7.71390605e-13j]]), array([[2.46669841e-07-1.84071754e-20j]])], [array([[0.05068574+9.3132103e-26j]]), array([[2.46401876e-07-3.56408729e-34j]])]]\n",
            "Lambda of f3: [array([[26.53096729]]), array([[39.88775414]]), array([[40734.71642014]]), array([[75356.96323649]]), array([[99709.30242893]]), array([[117214.6389812]]), array([[118133.50303564]]), array([[136148.67800481]]), array([[181385.17178425-3.1136835e-06j]]), array([[205703.53351784+3.7826586e-19j]])]\n",
            "Evidence of f3:[[array([[-3048.41416564]])], [array([[-3053.67585963]])], [array([[-2715.73623438]])], [array([[-2718.84119685]])], [array([[-2726.74106952]])], [array([[-2736.55394926]])], [array([[-2747.56093749]])], [array([[-2761.31965523]])], [array([[-2776.93750933-2.51427833e-11j]])], [array([[-2794.29119688+3.93071859e-24j]])]]\n",
            "MSE for unregularized f3:[39389142.58553825, 39495762.4590057, 148429.38836498046, 179627.46131852322, 186263.5607966597, 211370.60739423812, 211030.05221746684, 219229.8794823628, 226345.88140590405, 270774.8068737837]\n"
          ]
        }
      ]
    },
    {
      "cell_type": "code",
      "source": [
        "x = np.array([1,2,3,4,5,6,7,8,9,10])\n",
        "y1 = np.log(f3_mse)\n",
        "y2 = np.log(f3_mse_nonregu)\n",
        "\n",
        "plt.scatter(x, y1, color='green')\n",
        "plt.scatter(x, y2, color='red')\n",
        "\n",
        "# Scatter Plot color array\n",
        "plt.title(\"MSE w.r.t Degree of polynomial for F3 Data\")\n",
        "\n",
        "plt.xlabel(\"No. of degree of polynomial\")\n",
        "plt.ylabel(\"LOG Of MSE\")\n",
        "\n",
        "\n",
        "# Display\n",
        "plt.plot(x,y1,color='green')\n",
        "plt.plot(x,y2,color='red')\n",
        "\n",
        "plt.legend(['MSE-REGUL', 'NON-REGUL'])\n",
        "plt.show()\n",
        "\n",
        "\n"
      ],
      "metadata": {
        "colab": {
          "base_uri": "https://localhost:8080/",
          "height": 295
        },
        "id": "4nb2FFcu7Mwk",
        "outputId": "9be094a4-3b36-46db-b028-5178038569b5"
      },
      "execution_count": 131,
      "outputs": [
        {
          "output_type": "display_data",
          "data": {
            "text/plain": [
              "<Figure size 432x288 with 1 Axes>"
            ],
            "image/png": "[encoded data removed]"
          },
          "metadata": {
            "needs_background": "light"
          }
        }
      ]
    },
    {
      "cell_type": "code",
      "source": [
        "plt.title(\"Evidence with respect to degree of polynomial for F3 data\")\n",
        "plt.xlabel(\"Degree of Polynomial \")\n",
        "plt.ylabel(\"Log Evidence\")\n",
        "\n",
        "X = np.array([1,2,3,4,5,6,7,8,9,10])\n",
        "plt.plot(X,np.array(f3_evidence).reshape(10,1))"
      ],
      "metadata": {
        "colab": {
          "base_uri": "https://localhost:8080/",
          "height": 369
        },
        "id": "uAMb1tfW8XVO",
        "outputId": "8c67a89e-5da4-4cec-c39f-137ae1a13696"
      },
      "execution_count": 132,
      "outputs": [
        {
          "output_type": "stream",
          "name": "stderr",
          "text": [
            "/usr/local/lib/python3.7/dist-packages/matplotlib/cbook/__init__.py:1317: ComplexWarning: Casting complex values to real discards the imaginary part\n",
            "  return np.asarray(x, float)\n"
          ]
        },
        {
          "output_type": "execute_result",
          "data": {
            "text/plain": [
              "[<matplotlib.lines.Line2D at 0x7fd4ebdbd7d0>]"
            ]
          },
          "metadata": {},
          "execution_count": 132
        },
        {
          "output_type": "display_data",
          "data": {
            "text/plain": [
              "<Figure size 432x288 with 1 Axes>"
            ],
            "image/png": "[encoded data removed]"
          },
          "metadata": {
            "needs_background": "light"
          }
        }
      ]
    },
    {
      "cell_type": "markdown",
      "source": [
        "For F5-Data"
      ],
      "metadata": {
        "id": "92C69CkO9u4z"
      }
    },
    {
      "cell_type": "code",
      "source": [
        "Sd=[1,2,3,4,5,6,7,8,9,10]\n",
        "f5_mse=[]\n",
        "f5_alpha_beta=[]\n",
        "f5_labda=[]\n",
        "f5_evidence=[]\n",
        "f5_mse_nonregu=[]\n",
        "alpha=6\n",
        "beta=7\n",
        "trainR=trainR_f5\n",
        "testR=testR_f5 \n",
        "for i in d:\n",
        "   train=generate(train_f5,i)\n",
        "   test=generate(test_f5,i)\n",
        "   call3(alpha,beta,train,trainR,test,testR,f5_mse,f5_alpha_beta,f5_labda,f5_evidence)\n",
        "   call4(train,trainR,test,testR,f5_mse_nonregu)\n",
        "print(f\"MSE of f5: {f5_mse}\")\n",
        "print(f\"alpha beta of f5: {f5_alpha_beta}\")\n",
        "print(f\"Lambda of f5: {f5_labda}\")\n",
        "print(f\"Evidence of f5:{f5_evidence}\")\n",
        "print(f\"MSE for unregularized f5:{f5_mse_nonregu}\")\n"
      ],
      "metadata": {
        "colab": {
          "base_uri": "https://localhost:8080/",
          "height": 0
        },
        "id": "GDEGnqoSVtL6",
        "outputId": "5c51c23a-8808-47fc-9d74-7163fd143037"
      },
      "execution_count": 136,
      "outputs": [
        {
          "output_type": "stream",
          "name": "stdout",
          "text": [
            "MSE of f5: [341402522822.16724, 341325173103.92303, 17502036666.041233, 17478865261.765102, 54265.21421216773, 69168.5095548836, 92510.91386388306, 96676.97257943789, 105749.35686983926, 103637.86559875993]\n",
            "alpha beta of f5: [[array([[1.54380115e-10]]), array([[3.33398859e-12]])], [array([[3.00733407e-10]]), array([[3.34069621e-12]])], [array([[1.22828082e-09]]), array([[6.60264306e-11]])], [array([[1.78627075e-09]]), array([[6.72591406e-11]])], [array([[0.03861713]]), array([[2.35209039e-07]])], [array([[0.05064734]]), array([[2.35587291e-07]])], [array([[0.06878545]]), array([[2.36760433e-07]])], [array([[0.08159545]]), array([[2.36045035e-07]])], [array([[0.09207294]]), array([[2.35704286e-07]])], [array([[0.10415594-4.34163044e-37j]]), array([[2.35300638e-07-1.77403245e-44j]])]]\n",
            "Lambda of f5: [array([[46.30493214]]), array([[90.0211776]]), array([[18.60286562]]), array([[26.55803711]]), array([[164182.15911567]]), array([[214983.34660093]]), array([[290527.66132706]]), array([[345677.47488897]]), array([[390629.05355127]]), array([[442650.47436922-1.81176849e-30j]])]\n",
            "Evidence of f5:[[array([[-4393.73550678]])], [array([[-4397.7732509]])], [array([[-3959.94579372]])], [array([[-3965.9856204]])], [array([[-2733.70960464]])], [array([[-2742.6596142]])], [array([[-2752.59106396]])], [array([[-2766.0839116]])], [array([[-2781.16754738]])], [array([[-2798.26069144+1.27461919e-34j]])]]\n",
            "MSE for unregularized f5:[341642661126.0123, 341195638304.25635, 17465602121.93268, 17435655143.623688, 61375.34506062505, 79043.0543015729, 106031.5535393341, 104840.41232815893, 110065.57436835961, 108832.55158392733]\n"
          ]
        }
      ]
    },
    {
      "cell_type": "code",
      "source": [
        "x = np.array([1,2,3,4,5,6,7,8,9,10])\n",
        "y1 = np.log(f5_mse)\n",
        "y2 = np.log(f5_mse_nonregu)\n",
        "\n",
        "plt.scatter(x, y1, color='green')\n",
        "plt.scatter(x, y2, color='red')\n",
        "\n",
        "# Scatter Plot color array\n",
        "plt.title(\"MSE w.r.t Degree of polynomial for F5 Data\")\n",
        "\n",
        "plt.xlabel(\"No. of degree of polynomial\")\n",
        "plt.ylabel(\"LOG Of MSE\")\n",
        "\n",
        "\n",
        "# Display\n",
        "plt.plot(x,y1,color='green')\n",
        "plt.plot(x,y2,color='red')\n",
        "\n",
        "plt.legend(['MSE-REGUL', 'NON-REGUL'])\n",
        "plt.show()\n",
        "\n",
        "\n"
      ],
      "metadata": {
        "colab": {
          "base_uri": "https://localhost:8080/",
          "height": 295
        },
        "id": "Ly0vePGSqIOX",
        "outputId": "a4b6b3ca-abf5-4af8-f3fb-9a8aee4182ef"
      },
      "execution_count": 134,
      "outputs": [
        {
          "output_type": "display_data",
          "data": {
            "text/plain": [
              "<Figure size 432x288 with 1 Axes>"
            ],
            "image/png": "[encoded data removed]"
          },
          "metadata": {
            "needs_background": "light"
          }
        }
      ]
    },
    {
      "cell_type": "code",
      "source": [
        "plt.title(\"Evidence with respect to degree of polynomial for F5 data\")\n",
        "plt.xlabel(\"Degree of Polynomial \")\n",
        "plt.ylabel(\"Log Evidence\")\n",
        "\n",
        "X = np.array([1,2,3,4,5,6,7,8,9,10])\n",
        "plt.plot(X,np.array(f5_evidence).reshape(10,1))"
      ],
      "metadata": {
        "colab": {
          "base_uri": "https://localhost:8080/",
          "height": 369
        },
        "id": "Xzib-2GDrLW9",
        "outputId": "aa5df9b5-0d6d-438f-d6b5-38ce09aca5cf"
      },
      "execution_count": 135,
      "outputs": [
        {
          "output_type": "stream",
          "name": "stderr",
          "text": [
            "/usr/local/lib/python3.7/dist-packages/matplotlib/cbook/__init__.py:1317: ComplexWarning: Casting complex values to real discards the imaginary part\n",
            "  return np.asarray(x, float)\n"
          ]
        },
        {
          "output_type": "execute_result",
          "data": {
            "text/plain": [
              "[<matplotlib.lines.Line2D at 0x7fd4ec2d77d0>]"
            ]
          },
          "metadata": {},
          "execution_count": 135
        },
        {
          "output_type": "display_data",
          "data": {
            "text/plain": [
              "<Figure size 432x288 with 1 Axes>"
            ],
            "image/png": "[encoded data removed]"
          },
          "metadata": {
            "needs_background": "light"
          }
        }
      ]
    }
  ]
}